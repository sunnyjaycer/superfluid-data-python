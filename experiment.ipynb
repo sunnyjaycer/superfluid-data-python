{
 "cells": [
  {
   "cell_type": "code",
   "execution_count": 192,
   "metadata": {},
   "outputs": [],
   "source": [
    "import requests\n",
    "import json\n",
    "import pandas as pd"
   ]
  },
  {
   "cell_type": "code",
   "execution_count": 193,
   "metadata": {},
   "outputs": [],
   "source": [
    "address = \"0xF1748222B08193273fd34FF10A28352A2C25Adb0\".lower()\n",
    "query = \"\"\"query {\n",
    "  account(id: \"addressForQuery\") {\n",
    "    inflows(where: {currentFlowRate_gt: \"0\"}) {\n",
    "      currentFlowRate\n",
    "      createdAtTimestamp\n",
    "      sender {\n",
    "        id\n",
    "      }\n",
    "      token {\n",
    "        symbol\n",
    "      }\n",
    "    }\n",
    "    outflows(where: {currentFlowRate_gt: \"0\"}) {\n",
    "      currentFlowRate\n",
    "      createdAtTimestamp\n",
    "      receiver {\n",
    "        id\n",
    "      }\n",
    "      token {\n",
    "        symbol\n",
    "      }\n",
    "    }\n",
    "  }\n",
    "}\"\"\"\n",
    "\n",
    "query = query.replace(\"addressForQuery\", address)"
   ]
  },
  {
   "cell_type": "code",
   "execution_count": 194,
   "metadata": {},
   "outputs": [
    {
     "name": "stdout",
     "output_type": "stream",
     "text": [
      "200\n",
      "{\"data\":{\"account\":{\"inflows\":[{\"currentFlowRate\":\"79000000000000\",\"createdAtTimestamp\":\"1665526783\",\"sender\":{\"id\":\"0x005f16f017aa933bb41965b52848ceb8ee48b171\"},\"token\":{\"symbol\":\"USDCx\"}},{\"currentFlowRate\":\"38000000000000\",\"createdAtTimestamp\":\"1656694205\",\"sender\":{\"id\":\"0x0154d25120ed20a516fe43991702e7463c5a6f6e\"},\"token\":{\"symbol\":\"USDCx\"}},{\"currentFlowRate\":\"11000000000000\",\"createdAtTimestamp\":\"1668535555\",\"sender\":{\"id\":\"0x169e557af210203a5289beed805b854bf118cbfa\"},\"token\":{\"symbol\":\"USDCx\"}},{\"currentFlowRate\":\"19000000000000\",\"createdAtTimestamp\":\"1665417809\",\"sender\":{\"id\":\"0x18b8ce7affb71bfc3ec60aeb249a5f34334951d4\"},\"token\":{\"symbol\":\"USDCx\"}},{\"currentFlowRate\":\"3858000000000000\",\"createdAtTimestamp\":\"1667726552\",\"sender\":{\"id\":\"0x1b5d1ada2722413633475fe9745f6041eaaf10ef\"},\"token\":{\"symbol\":\"USDCx\"}},{\"currentFlowRate\":\"1000000000000\",\"createdAtTimestamp\":\"1668336749\",\"sender\":{\"id\":\"0x23de5ff9907d465e874fafab51b73a4b8f19945a\"},\"token\":{\"symbol\":\"USDCx\"}},{\"currentFlowRate\":\"3000000000000\",\"createdAtTimestamp\":\"1655056278\",\"sender\":{\"id\":\"0x32dbef8b3c7dd3e32c874d8a62162206518e5906\"},\"token\":{\"symbol\":\"USDCx\"}},{\"currentFlowRate\":\"308000000000000\",\"createdAtTimestamp\":\"1661691534\",\"sender\":{\"id\":\"0x50b9c84b56f495401b8fb051723fdf34a9a17d85\"},\"token\":{\"symbol\":\"USDCx\"}},{\"currentFlowRate\":\"31000000000000\",\"createdAtTimestamp\":\"1667221004\",\"sender\":{\"id\":\"0x5f5fe043fdad2526c099f265c8efd1baf245b090\"},\"token\":{\"symbol\":\"USDCx\"}},{\"currentFlowRate\":\"38000000000000\",\"createdAtTimestamp\":\"1663708270\",\"sender\":{\"id\":\"0x60d03f04304ac62a61c1d678a22136de3243b27c\"},\"token\":{\"symbol\":\"USDCx\"}},{\"currentFlowRate\":\"12000000000000\",\"createdAtTimestamp\":\"1666537348\",\"sender\":{\"id\":\"0x6129aeaf582dd8b748772e19fb7a80af26d4c2d3\"},\"token\":{\"symbol\":\"USDCx\"}},{\"currentFlowRate\":\"1000000000000\",\"createdAtTimestamp\":\"1660491152\",\"sender\":{\"id\":\"0x6f9a554c32a23a8d009831f4fd6995148555d50c\"},\"token\":{\"symbol\":\"USDCx\"}},{\"currentFlowRate\":\"878000000000000\",\"createdAtTimestamp\":\"1668214642\",\"sender\":{\"id\":\"0x80eaf266bb04124f39077309b8defb29a07c724d\"},\"token\":{\"symbol\":\"USDCx\"}},{\"currentFlowRate\":\"30000000000\",\"createdAtTimestamp\":\"1653999992\",\"sender\":{\"id\":\"0x83ac785283975bce056f21537a601b1776a639bb\"},\"token\":{\"symbol\":\"ETHx\"}},{\"currentFlowRate\":\"19000000000000\",\"createdAtTimestamp\":\"1667987340\",\"sender\":{\"id\":\"0x840647cb127112d0edb9e6c3ce8e0c083b99516a\"},\"token\":{\"symbol\":\"USDCx\"}},{\"currentFlowRate\":\"38000000000000\",\"createdAtTimestamp\":\"1668638279\",\"sender\":{\"id\":\"0xa177df1266abe0622620702320c4e730aed61e77\"},\"token\":{\"symbol\":\"USDCx\"}},{\"currentFlowRate\":\"7000000000000\",\"createdAtTimestamp\":\"1664500479\",\"sender\":{\"id\":\"0xa660940bdbd6127640b0f212ca9446469652ee44\"},\"token\":{\"symbol\":\"USDCx\"}},{\"currentFlowRate\":\"48000000000000\",\"createdAtTimestamp\":\"1655202494\",\"sender\":{\"id\":\"0xae5499976ffd3e58be47bdd51c787a5201d957f4\"},\"token\":{\"symbol\":\"USDCx\"}},{\"currentFlowRate\":\"37000000000000\",\"createdAtTimestamp\":\"1664950402\",\"sender\":{\"id\":\"0xafc418c0ec9434ed02a667165ac6733ebd25e252\"},\"token\":{\"symbol\":\"USDCx\"}},{\"currentFlowRate\":\"385000000000000\",\"createdAtTimestamp\":\"1668889216\",\"sender\":{\"id\":\"0xb7683913014e8d3a00b66bc32c872e4f0dacf871\"},\"token\":{\"symbol\":\"USDCx\"}},{\"currentFlowRate\":\"19000000000000\",\"createdAtTimestamp\":\"1669315837\",\"sender\":{\"id\":\"0xc0163e58648b247c143023cfb26c2baa42c9d9a9\"},\"token\":{\"symbol\":\"USDCx\"}},{\"currentFlowRate\":\"38000000000000\",\"createdAtTimestamp\":\"1668753839\",\"sender\":{\"id\":\"0xc60aa5b9b23800c2d9aa462e809959c966b27edf\"},\"token\":{\"symbol\":\"USDCx\"}},{\"currentFlowRate\":\"38000000000000\",\"createdAtTimestamp\":\"1657227331\",\"sender\":{\"id\":\"0xce9393a2d1762317d19cc3bacefc4eaf9a006371\"},\"token\":{\"symbol\":\"USDCx\"}},{\"currentFlowRate\":\"38000000000000\",\"createdAtTimestamp\":\"1664644560\",\"sender\":{\"id\":\"0xd44a20a3adeda5f8c15847491688d31a9f9e903b\"},\"token\":{\"symbol\":\"USDCx\"}},{\"currentFlowRate\":\"96000000000000\",\"createdAtTimestamp\":\"1668151273\",\"sender\":{\"id\":\"0xdb288fbb1699440fa85a6317a1c439946cc0ae18\"},\"token\":{\"symbol\":\"USDCx\"}},{\"currentFlowRate\":\"165000000000000\",\"createdAtTimestamp\":\"1655077255\",\"sender\":{\"id\":\"0xde528e838ef461bf2c71b63f8ab88c03ca2b01d0\"},\"token\":{\"symbol\":\"USDCx\"}},{\"currentFlowRate\":\"19000000000000\",\"createdAtTimestamp\":\"1660881165\",\"sender\":{\"id\":\"0xf58fe388d53e9542f0bddff2d1578b13675228fd\"},\"token\":{\"symbol\":\"USDCx\"}},{\"currentFlowRate\":\"10000000000\",\"createdAtTimestamp\":\"1668193314\",\"sender\":{\"id\":\"0xf8a025b42b07db05638fe596cce339707ec3cc71\"},\"token\":{\"symbol\":\"ETHx\"}},{\"currentFlowRate\":\"385000000000000\",\"createdAtTimestamp\":\"1663694719\",\"sender\":{\"id\":\"0xf903b59c81780b110398c4e1b20de518e4e6e095\"},\"token\":{\"symbol\":\"USDCx\"}}],\"outflows\":[]}}}\n"
     ]
    }
   ],
   "source": [
    "url = 'https://api.thegraph.com/subgraphs/name/superfluid-finance/protocol-v1-matic'\n",
    "r = requests.post(url, json={'query': query})\n",
    "print(r.status_code)\n",
    "print(r.text)"
   ]
  },
  {
   "cell_type": "code",
   "execution_count": 195,
   "metadata": {},
   "outputs": [],
   "source": [
    "json_data = json.loads(r.text)"
   ]
  },
  {
   "cell_type": "code",
   "execution_count": 196,
   "metadata": {},
   "outputs": [
    {
     "name": "stdout",
     "output_type": "stream",
     "text": [
      "Series([], dtype: object)\n"
     ]
    },
    {
     "data": {
      "text/html": [
       "<div>\n",
       "<style scoped>\n",
       "    .dataframe tbody tr th:only-of-type {\n",
       "        vertical-align: middle;\n",
       "    }\n",
       "\n",
       "    .dataframe tbody tr th {\n",
       "        vertical-align: top;\n",
       "    }\n",
       "\n",
       "    .dataframe thead th {\n",
       "        text-align: right;\n",
       "    }\n",
       "</style>\n",
       "<table border=\"1\" class=\"dataframe\">\n",
       "  <thead>\n",
       "    <tr style=\"text-align: right;\">\n",
       "      <th></th>\n",
       "    </tr>\n",
       "  </thead>\n",
       "  <tbody>\n",
       "  </tbody>\n",
       "</table>\n",
       "</div>"
      ],
      "text/plain": [
       "Empty DataFrame\n",
       "Columns: []\n",
       "Index: []"
      ]
     },
     "execution_count": 196,
     "metadata": {},
     "output_type": "execute_result"
    }
   ],
   "source": [
    "# Get outflows data\n",
    "df_data = json_data['data']['account']['outflows']\n",
    "outflow_df = pd.DataFrame(df_data)\n",
    "\n",
    "# Getting address value in `receiver` column of dictionaries if there is one\n",
    "try:\n",
    "    \n",
    "    outflow_df['receiver'] = outflow_df['receiver'].apply(lambda x: x['id'])\n",
    "    outflow_df['token'] = outflow_df['token'].apply(lambda x: x['symbol'])\n",
    "\n",
    "    # Assigning data types\n",
    "    outflow_df = outflow_df.astype({\n",
    "        'currentFlowRate'    : 'int64',\n",
    "        'createdAtTimestamp' : 'int64',\n",
    "        'receiver'           : \"str\",\n",
    "        'token'              : 'str'\n",
    "    })\n",
    "\n",
    "    # Make outflows negative\n",
    "    outflow_df['currentFlowRate'] = -outflow_df['currentFlowRate']\n",
    "\n",
    "except:\n",
    "    pass\n",
    "\n",
    "print(outflow_df.dtypes)\n",
    "outflow_df.head()"
   ]
  },
  {
   "cell_type": "code",
   "execution_count": 197,
   "metadata": {},
   "outputs": [
    {
     "name": "stdout",
     "output_type": "stream",
     "text": [
      "currentFlowRate        int64\n",
      "createdAtTimestamp     int64\n",
      "sender                object\n",
      "token                 object\n",
      "dtype: object\n"
     ]
    },
    {
     "data": {
      "text/html": [
       "<div>\n",
       "<style scoped>\n",
       "    .dataframe tbody tr th:only-of-type {\n",
       "        vertical-align: middle;\n",
       "    }\n",
       "\n",
       "    .dataframe tbody tr th {\n",
       "        vertical-align: top;\n",
       "    }\n",
       "\n",
       "    .dataframe thead th {\n",
       "        text-align: right;\n",
       "    }\n",
       "</style>\n",
       "<table border=\"1\" class=\"dataframe\">\n",
       "  <thead>\n",
       "    <tr style=\"text-align: right;\">\n",
       "      <th></th>\n",
       "      <th>currentFlowRate</th>\n",
       "      <th>createdAtTimestamp</th>\n",
       "      <th>sender</th>\n",
       "      <th>token</th>\n",
       "    </tr>\n",
       "  </thead>\n",
       "  <tbody>\n",
       "    <tr>\n",
       "      <th>0</th>\n",
       "      <td>79000000000000</td>\n",
       "      <td>1665526783</td>\n",
       "      <td>0x005f16f017aa933bb41965b52848ceb8ee48b171</td>\n",
       "      <td>USDCx</td>\n",
       "    </tr>\n",
       "    <tr>\n",
       "      <th>1</th>\n",
       "      <td>38000000000000</td>\n",
       "      <td>1656694205</td>\n",
       "      <td>0x0154d25120ed20a516fe43991702e7463c5a6f6e</td>\n",
       "      <td>USDCx</td>\n",
       "    </tr>\n",
       "    <tr>\n",
       "      <th>2</th>\n",
       "      <td>11000000000000</td>\n",
       "      <td>1668535555</td>\n",
       "      <td>0x169e557af210203a5289beed805b854bf118cbfa</td>\n",
       "      <td>USDCx</td>\n",
       "    </tr>\n",
       "    <tr>\n",
       "      <th>3</th>\n",
       "      <td>19000000000000</td>\n",
       "      <td>1665417809</td>\n",
       "      <td>0x18b8ce7affb71bfc3ec60aeb249a5f34334951d4</td>\n",
       "      <td>USDCx</td>\n",
       "    </tr>\n",
       "    <tr>\n",
       "      <th>4</th>\n",
       "      <td>3858000000000000</td>\n",
       "      <td>1667726552</td>\n",
       "      <td>0x1b5d1ada2722413633475fe9745f6041eaaf10ef</td>\n",
       "      <td>USDCx</td>\n",
       "    </tr>\n",
       "  </tbody>\n",
       "</table>\n",
       "</div>"
      ],
      "text/plain": [
       "    currentFlowRate  createdAtTimestamp  \\\n",
       "0    79000000000000          1665526783   \n",
       "1    38000000000000          1656694205   \n",
       "2    11000000000000          1668535555   \n",
       "3    19000000000000          1665417809   \n",
       "4  3858000000000000          1667726552   \n",
       "\n",
       "                                       sender  token  \n",
       "0  0x005f16f017aa933bb41965b52848ceb8ee48b171  USDCx  \n",
       "1  0x0154d25120ed20a516fe43991702e7463c5a6f6e  USDCx  \n",
       "2  0x169e557af210203a5289beed805b854bf118cbfa  USDCx  \n",
       "3  0x18b8ce7affb71bfc3ec60aeb249a5f34334951d4  USDCx  \n",
       "4  0x1b5d1ada2722413633475fe9745f6041eaaf10ef  USDCx  "
      ]
     },
     "execution_count": 197,
     "metadata": {},
     "output_type": "execute_result"
    }
   ],
   "source": [
    "# Get inflows data\n",
    "df_data = json_data['data']['account']['inflows']\n",
    "inflow_df = pd.DataFrame(df_data)\n",
    "\n",
    "# Getting address value in `sender` column of dictionaries if there is one\n",
    "try:\n",
    "\n",
    "    inflow_df['sender'] = inflow_df['sender'].apply(lambda x: x['id'])\n",
    "    inflow_df['token'] = inflow_df['token'].apply(lambda x: x['symbol'])\n",
    "    \n",
    "    # Assigning data types\n",
    "    inflow_df = inflow_df.astype({\n",
    "        'currentFlowRate'    : 'int64',\n",
    "        'createdAtTimestamp' : 'int64',\n",
    "        'sender'             : \"str\",\n",
    "        'token'              : 'str'\n",
    "    })\n",
    "    \n",
    "except:\n",
    "    pass\n",
    "\n",
    "print(inflow_df.dtypes)\n",
    "inflow_df.head()"
   ]
  },
  {
   "cell_type": "code",
   "execution_count": 198,
   "metadata": {},
   "outputs": [],
   "source": [
    "# append them\n",
    "df = pd.concat([inflow_df, outflow_df])"
   ]
  },
  {
   "cell_type": "code",
   "execution_count": 199,
   "metadata": {},
   "outputs": [
    {
     "ename": "KeyError",
     "evalue": "\"['receiver'] not in index\"",
     "output_type": "error",
     "traceback": [
      "\u001b[1;31m---------------------------------------------------------------------------\u001b[0m",
      "\u001b[1;31mKeyError\u001b[0m                                  Traceback (most recent call last)",
      "\u001b[1;32m~\\AppData\\Local\\Temp\\ipykernel_9208\\1336015739.py\u001b[0m in \u001b[0;36m<module>\u001b[1;34m\u001b[0m\n\u001b[0;32m      1\u001b[0m \u001b[1;31m# wei/sec * 1 ether/10**18 wei * (60*60*24*30) sec / 1 month = ethers/month\u001b[0m\u001b[1;33m\u001b[0m\u001b[1;33m\u001b[0m\u001b[0m\n\u001b[1;32m----> 2\u001b[1;33m \u001b[0mdf_final\u001b[0m \u001b[1;33m=\u001b[0m \u001b[0mdf\u001b[0m\u001b[1;33m.\u001b[0m\u001b[0massign\u001b[0m\u001b[1;33m(\u001b[0m\u001b[0mcurrentFlowRateMonthly\u001b[0m \u001b[1;33m=\u001b[0m \u001b[1;32mlambda\u001b[0m \u001b[0mx\u001b[0m \u001b[1;33m:\u001b[0m \u001b[1;33m(\u001b[0m \u001b[0mx\u001b[0m\u001b[1;33m[\u001b[0m\u001b[1;34m'currentFlowRate'\u001b[0m\u001b[1;33m]\u001b[0m \u001b[1;33m/\u001b[0m \u001b[1;33m(\u001b[0m\u001b[1;36m10\u001b[0m\u001b[1;33m**\u001b[0m\u001b[1;36m18\u001b[0m\u001b[1;33m)\u001b[0m \u001b[1;33m)\u001b[0m \u001b[1;33m*\u001b[0m \u001b[1;33m(\u001b[0m\u001b[1;36m60\u001b[0m\u001b[1;33m*\u001b[0m\u001b[1;36m60\u001b[0m\u001b[1;33m*\u001b[0m\u001b[1;36m24\u001b[0m\u001b[1;33m*\u001b[0m\u001b[1;36m30\u001b[0m\u001b[1;33m)\u001b[0m \u001b[1;33m)\u001b[0m\u001b[1;33m[\u001b[0m\u001b[1;33m[\u001b[0m\u001b[1;34m\"token\"\u001b[0m\u001b[1;33m,\u001b[0m\u001b[1;34m\"currentFlowRateMonthly\"\u001b[0m\u001b[1;33m,\u001b[0m\u001b[1;34m\"sender\"\u001b[0m\u001b[1;33m,\u001b[0m\u001b[1;34m\"receiver\"\u001b[0m\u001b[1;33m]\u001b[0m\u001b[1;33m]\u001b[0m\u001b[1;33m\u001b[0m\u001b[1;33m\u001b[0m\u001b[0m\n\u001b[0m\u001b[0;32m      3\u001b[0m \u001b[1;33m\u001b[0m\u001b[0m\n\u001b[0;32m      4\u001b[0m \u001b[0mdf\u001b[0m\u001b[1;33m\u001b[0m\u001b[1;33m\u001b[0m\u001b[0m\n",
      "\u001b[1;32mc:\\Users\\JoelJesu\\anaconda3\\lib\\site-packages\\pandas\\core\\frame.py\u001b[0m in \u001b[0;36m__getitem__\u001b[1;34m(self, key)\u001b[0m\n\u001b[0;32m   3509\u001b[0m             \u001b[1;32mif\u001b[0m \u001b[0mis_iterator\u001b[0m\u001b[1;33m(\u001b[0m\u001b[0mkey\u001b[0m\u001b[1;33m)\u001b[0m\u001b[1;33m:\u001b[0m\u001b[1;33m\u001b[0m\u001b[1;33m\u001b[0m\u001b[0m\n\u001b[0;32m   3510\u001b[0m                 \u001b[0mkey\u001b[0m \u001b[1;33m=\u001b[0m \u001b[0mlist\u001b[0m\u001b[1;33m(\u001b[0m\u001b[0mkey\u001b[0m\u001b[1;33m)\u001b[0m\u001b[1;33m\u001b[0m\u001b[1;33m\u001b[0m\u001b[0m\n\u001b[1;32m-> 3511\u001b[1;33m             \u001b[0mindexer\u001b[0m \u001b[1;33m=\u001b[0m \u001b[0mself\u001b[0m\u001b[1;33m.\u001b[0m\u001b[0mcolumns\u001b[0m\u001b[1;33m.\u001b[0m\u001b[0m_get_indexer_strict\u001b[0m\u001b[1;33m(\u001b[0m\u001b[0mkey\u001b[0m\u001b[1;33m,\u001b[0m \u001b[1;34m\"columns\"\u001b[0m\u001b[1;33m)\u001b[0m\u001b[1;33m[\u001b[0m\u001b[1;36m1\u001b[0m\u001b[1;33m]\u001b[0m\u001b[1;33m\u001b[0m\u001b[1;33m\u001b[0m\u001b[0m\n\u001b[0m\u001b[0;32m   3512\u001b[0m \u001b[1;33m\u001b[0m\u001b[0m\n\u001b[0;32m   3513\u001b[0m         \u001b[1;31m# take() does not accept boolean indexers\u001b[0m\u001b[1;33m\u001b[0m\u001b[1;33m\u001b[0m\u001b[0m\n",
      "\u001b[1;32mc:\\Users\\JoelJesu\\anaconda3\\lib\\site-packages\\pandas\\core\\indexes\\base.py\u001b[0m in \u001b[0;36m_get_indexer_strict\u001b[1;34m(self, key, axis_name)\u001b[0m\n\u001b[0;32m   5794\u001b[0m             \u001b[0mkeyarr\u001b[0m\u001b[1;33m,\u001b[0m \u001b[0mindexer\u001b[0m\u001b[1;33m,\u001b[0m \u001b[0mnew_indexer\u001b[0m \u001b[1;33m=\u001b[0m \u001b[0mself\u001b[0m\u001b[1;33m.\u001b[0m\u001b[0m_reindex_non_unique\u001b[0m\u001b[1;33m(\u001b[0m\u001b[0mkeyarr\u001b[0m\u001b[1;33m)\u001b[0m\u001b[1;33m\u001b[0m\u001b[1;33m\u001b[0m\u001b[0m\n\u001b[0;32m   5795\u001b[0m \u001b[1;33m\u001b[0m\u001b[0m\n\u001b[1;32m-> 5796\u001b[1;33m         \u001b[0mself\u001b[0m\u001b[1;33m.\u001b[0m\u001b[0m_raise_if_missing\u001b[0m\u001b[1;33m(\u001b[0m\u001b[0mkeyarr\u001b[0m\u001b[1;33m,\u001b[0m \u001b[0mindexer\u001b[0m\u001b[1;33m,\u001b[0m \u001b[0maxis_name\u001b[0m\u001b[1;33m)\u001b[0m\u001b[1;33m\u001b[0m\u001b[1;33m\u001b[0m\u001b[0m\n\u001b[0m\u001b[0;32m   5797\u001b[0m \u001b[1;33m\u001b[0m\u001b[0m\n\u001b[0;32m   5798\u001b[0m         \u001b[0mkeyarr\u001b[0m \u001b[1;33m=\u001b[0m \u001b[0mself\u001b[0m\u001b[1;33m.\u001b[0m\u001b[0mtake\u001b[0m\u001b[1;33m(\u001b[0m\u001b[0mindexer\u001b[0m\u001b[1;33m)\u001b[0m\u001b[1;33m\u001b[0m\u001b[1;33m\u001b[0m\u001b[0m\n",
      "\u001b[1;32mc:\\Users\\JoelJesu\\anaconda3\\lib\\site-packages\\pandas\\core\\indexes\\base.py\u001b[0m in \u001b[0;36m_raise_if_missing\u001b[1;34m(self, key, indexer, axis_name)\u001b[0m\n\u001b[0;32m   5857\u001b[0m \u001b[1;33m\u001b[0m\u001b[0m\n\u001b[0;32m   5858\u001b[0m             \u001b[0mnot_found\u001b[0m \u001b[1;33m=\u001b[0m \u001b[0mlist\u001b[0m\u001b[1;33m(\u001b[0m\u001b[0mensure_index\u001b[0m\u001b[1;33m(\u001b[0m\u001b[0mkey\u001b[0m\u001b[1;33m)\u001b[0m\u001b[1;33m[\u001b[0m\u001b[0mmissing_mask\u001b[0m\u001b[1;33m.\u001b[0m\u001b[0mnonzero\u001b[0m\u001b[1;33m(\u001b[0m\u001b[1;33m)\u001b[0m\u001b[1;33m[\u001b[0m\u001b[1;36m0\u001b[0m\u001b[1;33m]\u001b[0m\u001b[1;33m]\u001b[0m\u001b[1;33m.\u001b[0m\u001b[0munique\u001b[0m\u001b[1;33m(\u001b[0m\u001b[1;33m)\u001b[0m\u001b[1;33m)\u001b[0m\u001b[1;33m\u001b[0m\u001b[1;33m\u001b[0m\u001b[0m\n\u001b[1;32m-> 5859\u001b[1;33m             \u001b[1;32mraise\u001b[0m \u001b[0mKeyError\u001b[0m\u001b[1;33m(\u001b[0m\u001b[1;34mf\"{not_found} not in index\"\u001b[0m\u001b[1;33m)\u001b[0m\u001b[1;33m\u001b[0m\u001b[1;33m\u001b[0m\u001b[0m\n\u001b[0m\u001b[0;32m   5860\u001b[0m \u001b[1;33m\u001b[0m\u001b[0m\n\u001b[0;32m   5861\u001b[0m     \u001b[1;33m@\u001b[0m\u001b[0moverload\u001b[0m\u001b[1;33m\u001b[0m\u001b[1;33m\u001b[0m\u001b[0m\n",
      "\u001b[1;31mKeyError\u001b[0m: \"['receiver'] not in index\""
     ]
    }
   ],
   "source": [
    "# wei/sec * 1 ether/10**18 wei * (60*60*24*30) sec / 1 month = ethers/month\n",
    "df_final = df.assign(currentFlowRateMonthly = lambda x : ( x['currentFlowRate'] / (10**18) ) * (60*60*24*30) )[[\"token\",\"currentFlowRateMonthly\",\"sender\"]]\n",
    "\n",
    "df"
   ]
  },
  {
   "cell_type": "code",
   "execution_count": null,
   "metadata": {},
   "outputs": [
    {
     "data": {
      "text/html": [
       "<div>\n",
       "<style scoped>\n",
       "    .dataframe tbody tr th:only-of-type {\n",
       "        vertical-align: middle;\n",
       "    }\n",
       "\n",
       "    .dataframe tbody tr th {\n",
       "        vertical-align: top;\n",
       "    }\n",
       "\n",
       "    .dataframe thead th {\n",
       "        text-align: right;\n",
       "    }\n",
       "</style>\n",
       "<table border=\"1\" class=\"dataframe\">\n",
       "  <thead>\n",
       "    <tr style=\"text-align: right;\">\n",
       "      <th></th>\n",
       "      <th>token</th>\n",
       "      <th>currentFlowRateMonthly</th>\n",
       "      <th>sender</th>\n",
       "      <th>receiver</th>\n",
       "    </tr>\n",
       "  </thead>\n",
       "  <tbody>\n",
       "    <tr>\n",
       "      <th>0</th>\n",
       "      <td>USDCx</td>\n",
       "      <td>7397.282880</td>\n",
       "      <td>0x290a27026021af22b1794dc1e489a35869820637</td>\n",
       "      <td>0xa852830defa900d655cb933c62474d3c85954fc5</td>\n",
       "    </tr>\n",
       "    <tr>\n",
       "      <th>0</th>\n",
       "      <td>USDCx</td>\n",
       "      <td>-2054.794521</td>\n",
       "      <td>0xa852830defa900d655cb933c62474d3c85954fc5</td>\n",
       "      <td>0x4e26f0ded5597bac558cbe472fe6d10de5d0944b</td>\n",
       "    </tr>\n",
       "  </tbody>\n",
       "</table>\n",
       "</div>"
      ],
      "text/plain": [
       "   token  currentFlowRateMonthly                                      sender  \\\n",
       "0  USDCx             7397.282880  0x290a27026021af22b1794dc1e489a35869820637   \n",
       "0  USDCx            -2054.794521  0xa852830defa900d655cb933c62474d3c85954fc5   \n",
       "\n",
       "                                     receiver  \n",
       "0  0xa852830defa900d655cb933c62474d3c85954fc5  \n",
       "0  0x4e26f0ded5597bac558cbe472fe6d10de5d0944b  "
      ]
     },
     "execution_count": 181,
     "metadata": {},
     "output_type": "execute_result"
    }
   ],
   "source": [
    "df_final.fillna(address)\n"
   ]
  }
 ],
 "metadata": {
  "kernelspec": {
   "display_name": "Python 3.9.13 ('base')",
   "language": "python",
   "name": "python3"
  },
  "language_info": {
   "codemirror_mode": {
    "name": "ipython",
    "version": 3
   },
   "file_extension": ".py",
   "mimetype": "text/x-python",
   "name": "python",
   "nbconvert_exporter": "python",
   "pygments_lexer": "ipython3",
   "version": "3.9.13"
  },
  "orig_nbformat": 4,
  "vscode": {
   "interpreter": {
    "hash": "ef1ba57f8d5cccb8cad2557ec1ab75a4cee582862beb5c90d59451b1879e60b1"
   }
  }
 },
 "nbformat": 4,
 "nbformat_minor": 2
}
